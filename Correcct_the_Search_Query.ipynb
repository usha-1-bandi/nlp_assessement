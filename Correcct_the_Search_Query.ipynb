{
  "nbformat": 4,
  "nbformat_minor": 0,
  "metadata": {
    "colab": {
      "provenance": [],
      "authorship_tag": "ABX9TyM3ehCUvymVWY5gmhcLR4GF",
      "include_colab_link": true
    },
    "kernelspec": {
      "name": "python3",
      "display_name": "Python 3"
    },
    "language_info": {
      "name": "python"
    }
  },
  "cells": [
    {
      "cell_type": "markdown",
      "metadata": {
        "id": "view-in-github",
        "colab_type": "text"
      },
      "source": [
        "<a href=\"https://colab.research.google.com/github/usha-1-bandi/nlp_assessement/blob/main/Correcct_the_Search_Query.ipynb\" target=\"_parent\"><img src=\"https://colab.research.google.com/assets/colab-badge.svg\" alt=\"Open In Colab\"/></a>"
      ]
    },
    {
      "cell_type": "code",
      "execution_count": 4,
      "metadata": {
        "colab": {
          "base_uri": "https://localhost:8080/"
        },
        "id": "A-z-jfP1XC2z",
        "outputId": "c7fd2897-fb92-4e58-a33b-3e0a427d367c"
      },
      "outputs": [
        {
          "output_type": "stream",
          "name": "stdout",
          "text": [
            "1\n",
            "5\n",
            "to\n"
          ]
        }
      ],
      "source": [
        "def levenshtein_distance(word1, word2):\n",
        "    \"\"\"Calculate the Levenshtein distance between two words.\"\"\"\n",
        "    m, n = len(word1), len(word2)\n",
        "    dp = [[0] * (n + 1) for _ in range(m + 1)]\n",
        "\n",
        "    for i in range(m + 1):\n",
        "        for j in range(n + 1):\n",
        "            if i == 0:\n",
        "                dp[i][j] = j\n",
        "            elif j == 0:\n",
        "                dp[i][j] = i\n",
        "            elif word1[i - 1] == word2[j - 1]:\n",
        "                dp[i][j] = dp[i - 1][j - 1]\n",
        "            else:\n",
        "                dp[i][j] = 1 + min(dp[i - 1][j - 1], dp[i - 1][j], dp[i][j - 1])\n",
        "\n",
        "    return dp[m][n]\n",
        "\n",
        "def correct_spelling(word, dictionary):\n",
        "    \"\"\"Return the closest match for a misspelled word using Levenshtein distance.\"\"\"\n",
        "    min_distance = float('inf')\n",
        "    closest_match = word\n",
        "\n",
        "    for dict_word in dictionary:\n",
        "        distance = levenshtein_distance(word, dict_word)\n",
        "        if distance < min_distance:\n",
        "            min_distance = distance\n",
        "            closest_match = dict_word\n",
        "\n",
        "    return closest_match\n",
        "\n",
        "def process_query(query, dictionary):\n",
        "    \"\"\"Process the query and correct each word using the dictionary.\"\"\"\n",
        "    words = query.split()\n",
        "    corrected_words = [correct_spelling(word, dictionary) for word in words]\n",
        "    return \" \".join(corrected_words)\n",
        "\n",
        "def main():\n",
        "    # Dictionary of common words for correction (could be expanded further)\n",
        "    dictionary = set([\n",
        "        \"going\", \"to\", \"china\", \"who\", \"was\", \"the\", \"first\", \"president\", \"of\", \"india\",\n",
        "        \"winner\", \"match\", \"food\", \"in\", \"america\"\n",
        "    ])\n",
        "\n",
        "    # Number of queries\n",
        "    n = int(input())  # number of queries\n",
        "\n",
        "    # Process each query\n",
        "    for _ in range(n):\n",
        "        query = input().strip()\n",
        "        corrected_query = process_query(query, dictionary)\n",
        "        print(corrected_query)\n",
        "\n",
        "# Run the main function\n",
        "if __name__ == \"__main__\":\n",
        "    main()"
      ]
    }
  ]
}