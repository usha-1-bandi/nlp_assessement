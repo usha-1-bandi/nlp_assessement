{
  "nbformat": 4,
  "nbformat_minor": 0,
  "metadata": {
    "colab": {
      "provenance": [],
      "authorship_tag": "ABX9TyPicKOLxi27TNrt5PRPafaJ",
      "include_colab_link": true
    },
    "kernelspec": {
      "name": "python3",
      "display_name": "Python 3"
    },
    "language_info": {
      "name": "python"
    }
  },
  "cells": [
    {
      "cell_type": "markdown",
      "metadata": {
        "id": "view-in-github",
        "colab_type": "text"
      },
      "source": [
        "<a href=\"https://colab.research.google.com/github/usha-1-bandi/nlp_assessement/blob/main/Deterministic_Url_HashTag_Segmentation_py.ipynb\" target=\"_parent\"><img src=\"https://colab.research.google.com/assets/colab-badge.svg\" alt=\"Open In Colab\"/></a>"
      ]
    },
    {
      "source": [
        "def main():\n",
        "    import sys\n",
        "    input = sys.stdin.read\n",
        "    data = input().split('\\n')\n",
        "\n",
        "    words_file_path = 'words.txt'\n",
        "    words_set = load_words(words_file_path)\n",
        "\n",
        "    # Check if data[0] is empty or contains only whitespace after stripping\n",
        "    if not data[0].strip():\n",
        "        print(\"Error: Input data is missing the expected integer on the first line.\")\n",
        "        return  # Exit the program\n",
        "\n",
        "    n = int(data[0].strip())\n",
        "    results = []\n",
        "    for i in range(1, n + 1):\n",
        "        if data[i].strip():\n",
        "            cleaned_input = strip_url_or_hashtag(data[i].strip())\n",
        "            segmented_text = segment_string(cleaned_input, words_set)\n",
        "            results.append(segmented_text)\n",
        "\n",
        "    for result in results:\n",
        "        print(result)"
      ],
      "cell_type": "code",
      "metadata": {
        "id": "9bWIJb70Zijz"
      },
      "execution_count": 9,
      "outputs": []
    }
  ]
}