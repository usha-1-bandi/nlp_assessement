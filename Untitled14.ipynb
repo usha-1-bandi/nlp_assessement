{
  "nbformat": 4,
  "nbformat_minor": 0,
  "metadata": {
    "colab": {
      "provenance": [],
      "authorship_tag": "ABX9TyNbr2UrWLF9FH3rpJorZ/vC",
      "include_colab_link": true
    },
    "kernelspec": {
      "name": "python3",
      "display_name": "Python 3"
    },
    "language_info": {
      "name": "python"
    }
  },
  "cells": [
    {
      "cell_type": "markdown",
      "metadata": {
        "id": "view-in-github",
        "colab_type": "text"
      },
      "source": [
        "<a href=\"https://colab.research.google.com/github/usha-1-bandi/nlp_assessement/blob/main/Untitled14.ipynb\" target=\"_parent\"><img src=\"https://colab.research.google.com/assets/colab-badge.svg\" alt=\"Open In Colab\"/></a>"
      ]
    },
    {
      "cell_type": "code",
      "execution_count": 1,
      "metadata": {
        "colab": {
          "base_uri": "https://localhost:8080/"
        },
        "id": "krmIvYgEg5qH",
        "outputId": "0bc78af1-cfb6-4c14-a5c8-188f9e03f82b"
      },
      "outputs": [
        {
          "output_type": "stream",
          "name": "stdout",
          "text": [
            "1\n",
            "2\n",
            "0\n",
            "0\n",
            "0\n",
            "0\n"
          ]
        }
      ],
      "source": [
        "import re\n",
        "\n",
        "def count_articles_and_dates(text):\n",
        "    # Count occurrences of articles\n",
        "    count_a = len(re.findall(r'\\ba\\b', text))\n",
        "    count_an = len(re.findall(r'\\ban\\b', text))\n",
        "    count_the = len(re.findall(r'\\bthe\\b', text))\n",
        "\n",
        "    # Regex pattern to detect dates\n",
        "    date_patterns = [\n",
        "        # Matches day/month/year or day/month/yy format\n",
        "        r'\\b(\\d{1,2})(st|nd|rd|th)?[\\s/-](\\d{1,2})[\\s/-](\\d{2,4})\\b',  # Day/Month/Year\n",
        "        # Matches Month day, year or Month day year (with or without \"of\")\n",
        "        r'\\b(\\d{1,2})(st|nd|rd|th)?[\\s]*(January|February|March|April|May|June|July|August|September|October|November|December)[a-zA-Z,]*[\\s]+(\\d{2,4})\\b',\n",
        "        # Matches \"Day Month Year\" format\n",
        "        r'\\b((January|February|March|April|May|June|July|August|September|October|November|December)[a-zA-Z,]*[\\s]+(\\d{1,2})(st|nd|rd|th)?[\\s]+(\\d{2,4}))\\b',\n",
        "        # Matches \"Month Day, Year\" format\n",
        "        r'\\b([a-zA-Z]+[\\s]+(\\d{1,2})(st|nd|rd|th)?[\\s]*[\\d{2,4}])\\b'\n",
        "    ]\n",
        "\n",
        "    # Count dates using regex patterns\n",
        "    date_count = 0\n",
        "    for pattern in date_patterns:\n",
        "        date_count += len(re.findall(pattern, text))\n",
        "\n",
        "    return count_a, count_an, count_the, date_count\n",
        "\n",
        "# Read input\n",
        "T = int(input())  # Number of test cases\n",
        "for _ in range(T):\n",
        "    text = input().strip()\n",
        "\n",
        "    # Process text fragment\n",
        "    count_a, count_an, count_the, date_count = count_articles_and_dates(text)\n",
        "\n",
        "    # Output the results for the current text fragment\n",
        "    print(count_a)\n",
        "    print(count_an)\n",
        "    print(count_the)\n",
        "    print(date_count)\n",
        "\n",
        "    # Read the blank line (if necessary)\n",
        "    if _ < T - 1:\n",
        "        input()  # Skip the blank line"
      ]
    }
  ]
}