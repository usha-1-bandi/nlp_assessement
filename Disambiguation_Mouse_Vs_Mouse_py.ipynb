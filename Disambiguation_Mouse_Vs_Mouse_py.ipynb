{
  "nbformat": 4,
  "nbformat_minor": 0,
  "metadata": {
    "colab": {
      "provenance": [],
      "authorship_tag": "ABX9TyPlh+rPxPLzJ/Upd8tG0gDw",
      "include_colab_link": true
    },
    "kernelspec": {
      "name": "python3",
      "display_name": "Python 3"
    },
    "language_info": {
      "name": "python"
    }
  },
  "cells": [
    {
      "cell_type": "markdown",
      "metadata": {
        "id": "view-in-github",
        "colab_type": "text"
      },
      "source": [
        "<a href=\"https://colab.research.google.com/github/usha-1-bandi/nlp_assessement/blob/main/Disambiguation_Mouse_Vs_Mouse_py.ipynb\" target=\"_parent\"><img src=\"https://colab.research.google.com/assets/colab-badge.svg\" alt=\"Open In Colab\"/></a>"
      ]
    },
    {
      "source": [
        "def classify_sentence(sentence):\n",
        "    sentence = sentence.lower()\n",
        "    computer_keywords = ['input', 'device', 'click', 'computer', 'screen']\n",
        "    animal_keywords = ['tail', 'fur', 'animal', 'scurry', 'rodent']\n",
        "\n",
        "    computer_score = sum(word in sentence for word in computer_keywords)\n",
        "    animal_score = sum(word in sentence for word in animal_keywords)\n",
        "\n",
        "    return \"computer-mouse\" if computer_score >= animal_score else \"animal\"\n",
        "\n",
        "def main():\n",
        "    import sys\n",
        "    # Use input() instead of sys.stdin.read to get input line by line\n",
        "    # and handle potential errors gracefully.\n",
        "    try:\n",
        "        n = int(input().strip())\n",
        "    except ValueError:\n",
        "        print(\"Error: Invalid input. Please provide an integer on the first line.\")\n",
        "        return\n",
        "\n",
        "    sentences = []\n",
        "    for _ in range(n):\n",
        "        try:\n",
        "            sentence = input().strip()\n",
        "            sentences.append(sentence)\n",
        "        except EOFError:\n",
        "            print(\"Error: Insufficient input. Please provide the specified number of sentences.\")\n",
        "            return\n",
        "\n",
        "    results = []\n",
        "    for sentence in sentences:\n",
        "        if sentence:\n",
        "            classification = classify_sentence(sentence)\n",
        "            results.append(classification)\n",
        "\n",
        "    for result in results:\n",
        "        print(result)\n",
        "\n",
        "if __name__ == '__main__':\n",
        "    main()"
      ],
      "cell_type": "code",
      "metadata": {
        "colab": {
          "base_uri": "https://localhost:8080/"
        },
        "id": "QRr3e_OfaqIf",
        "outputId": "2202c0cf-6c75-4d0d-ce79-1f627fd6efec"
      },
      "execution_count": 3,
      "outputs": [
        {
          "output_type": "stream",
          "name": "stdout",
          "text": [
            "1\n",
            "3\n",
            "computer-mouse\n"
          ]
        }
      ]
    }
  ]
}