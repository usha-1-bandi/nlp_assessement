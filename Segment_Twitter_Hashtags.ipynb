{
  "nbformat": 4,
  "nbformat_minor": 0,
  "metadata": {
    "colab": {
      "provenance": [],
      "authorship_tag": "ABX9TyMMkvLFjfKNwfn1SuszJY9P",
      "include_colab_link": true
    },
    "kernelspec": {
      "name": "python3",
      "display_name": "Python 3"
    },
    "language_info": {
      "name": "python"
    }
  },
  "cells": [
    {
      "cell_type": "markdown",
      "metadata": {
        "id": "view-in-github",
        "colab_type": "text"
      },
      "source": [
        "<a href=\"https://colab.research.google.com/github/usha-1-bandi/nlp_assessement/blob/main/Segment_Twitter_Hashtags.ipynb\" target=\"_parent\"><img src=\"https://colab.research.google.com/assets/colab-badge.svg\" alt=\"Open In Colab\"/></a>"
      ]
    },
    {
      "cell_type": "code",
      "execution_count": 2,
      "metadata": {
        "colab": {
          "base_uri": "https://localhost:8080/"
        },
        "id": "-ZQLDd-ycIE6",
        "outputId": "42e6fa9c-e8fc-4f0c-c086-ec06a7264b01"
      },
      "outputs": [
        {
          "output_type": "stream",
          "name": "stdout",
          "text": [
            "1\n",
            "2\n",
            "\n"
          ]
        }
      ],
      "source": [
        "import re\n",
        "\n",
        "# A simple dictionary of words for segmentation (This can be expanded)\n",
        "word_dict = set([\n",
        "    \"we\", \"are\", \"the\", \"people\", \"mention\", \"your\", \"faves\", \"now\", \"playing\", \"the\",\n",
        "    \"walking\", \"dead\", \"follow\", \"me\"\n",
        "])\n",
        "\n",
        "# Function to split the hashtag into words\n",
        "def split_hashtag(hashtag):\n",
        "    # Try to segment the hashtag using dynamic programming\n",
        "    n = len(hashtag)\n",
        "    dp = [None] * (n + 1)\n",
        "    dp[0] = []\n",
        "\n",
        "    for i in range(1, n + 1):\n",
        "        for j in range(i):\n",
        "            if dp[j] is not None and hashtag[j:i] in word_dict:\n",
        "                dp[i] = dp[j] + [hashtag[j:i]]\n",
        "                break\n",
        "\n",
        "    return dp[n] if dp[n] is not None else []\n",
        "\n",
        "# Read input\n",
        "n = int(input())  # Number of hashtags\n",
        "hashtags = [input().strip() for _ in range(n)]\n",
        "\n",
        "# Output the segmented words for each hashtag\n",
        "for hashtag in hashtags:\n",
        "    result = split_hashtag(hashtag)\n",
        "    print(\" \".join(result))"
      ]
    }
  ]
}