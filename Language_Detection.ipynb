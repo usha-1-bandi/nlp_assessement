{
  "nbformat": 4,
  "nbformat_minor": 0,
  "metadata": {
    "colab": {
      "provenance": [],
      "authorship_tag": "ABX9TyO9FrpnG3PvGkvSsKSkkFJU",
      "include_colab_link": true
    },
    "kernelspec": {
      "name": "python3",
      "display_name": "Python 3"
    },
    "language_info": {
      "name": "python"
    }
  },
  "cells": [
    {
      "cell_type": "markdown",
      "metadata": {
        "id": "view-in-github",
        "colab_type": "text"
      },
      "source": [
        "<a href=\"https://colab.research.google.com/github/usha-1-bandi/nlp_assessement/blob/main/Language_Detection.ipynb\" target=\"_parent\"><img src=\"https://colab.research.google.com/assets/colab-badge.svg\" alt=\"Open In Colab\"/></a>"
      ]
    },
    {
      "cell_type": "code",
      "execution_count": 1,
      "metadata": {
        "colab": {
          "base_uri": "https://localhost:8080/"
        },
        "id": "x3HclAkjbocY",
        "outputId": "5493f7ff-ada6-40c8-c6eb-a72180fe9e57"
      },
      "outputs": [
        {
          "output_type": "stream",
          "name": "stdout",
          "text": [
            "English\n"
          ]
        }
      ],
      "source": [
        "import sys\n",
        "from sklearn.feature_extraction.text import CountVectorizer\n",
        "from sklearn.naive_bayes import MultinomialNB\n",
        "from sklearn.pipeline import make_pipeline\n",
        "\n",
        "# Function to remove non-ASCII characters from text\n",
        "def sanitize_text(text):\n",
        "    return ''.join(char for char in text if ord(char) < 128)\n",
        "\n",
        "def train_language_model():\n",
        "    # Sample training data with only ASCII characters\n",
        "    train_texts = [\n",
        "        \"This is an English sentence.\",  # English\n",
        "        \"Another English sentence.\",  # English\n",
        "        \"Ceci est une phrase francaise.\",  # French\n",
        "        \"Une autre phrase francaise.\",  # French\n",
        "        \"Dies ist ein deutscher Satz.\",  # German\n",
        "        \"Ein weiterer deutscher Satz.\",  # German\n",
        "        \"Esta es una oracion en espanol.\",  # Spanish\n",
        "        \"Otra oracion en espanol.\"  # Spanish\n",
        "    ]\n",
        "\n",
        "    train_labels = [\"English\", \"English\", \"French\", \"French\", \"German\", \"German\", \"Spanish\", \"Spanish\"]\n",
        "\n",
        "    # Create a vectorizer + classifier pipeline\n",
        "    model = make_pipeline(CountVectorizer(analyzer='char', ngram_range=(3, 3)), MultinomialNB())\n",
        "\n",
        "    # Train the model\n",
        "    model.fit(train_texts, train_labels)\n",
        "\n",
        "    return model\n",
        "\n",
        "def main():\n",
        "    # Train the model once\n",
        "    model = train_language_model()\n",
        "\n",
        "    # Read input\n",
        "    input_text = sys.stdin.read().strip()\n",
        "\n",
        "    # Sanitize input to remove non-ASCII characters\n",
        "    sanitized_text = sanitize_text(input_text)\n",
        "\n",
        "    # Predict the language\n",
        "    language = model.predict([sanitized_text])[0]\n",
        "\n",
        "    print(language)\n",
        "\n",
        "if __name__ == '__main__':\n",
        "    main()"
      ]
    }
  ]
}