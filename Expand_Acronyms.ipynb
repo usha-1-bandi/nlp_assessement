{
  "nbformat": 4,
  "nbformat_minor": 0,
  "metadata": {
    "colab": {
      "provenance": [],
      "authorship_tag": "ABX9TyMwjXydHoNBcIcIZJbHDfTe",
      "include_colab_link": true
    },
    "kernelspec": {
      "name": "python3",
      "display_name": "Python 3"
    },
    "language_info": {
      "name": "python"
    }
  },
  "cells": [
    {
      "cell_type": "markdown",
      "metadata": {
        "id": "view-in-github",
        "colab_type": "text"
      },
      "source": [
        "<a href=\"https://colab.research.google.com/github/usha-1-bandi/nlp_assessement/blob/main/Expand_Acronyms.ipynb\" target=\"_parent\"><img src=\"https://colab.research.google.com/assets/colab-badge.svg\" alt=\"Open In Colab\"/></a>"
      ]
    },
    {
      "cell_type": "code",
      "execution_count": 1,
      "metadata": {
        "colab": {
          "base_uri": "https://localhost:8080/"
        },
        "id": "lNjJOEXRa8V7",
        "outputId": "cb684d6d-96a3-46fc-d3bf-a3d296700ba6"
      },
      "outputs": [
        {
          "output_type": "stream",
          "name": "stdout",
          "text": [
            "1\n",
            "2\n",
            "4\n",
            "Unknown Acronym\n"
          ]
        }
      ],
      "source": [
        "import re\n",
        "\n",
        "def extract_acronyms(snippets):\n",
        "    acronym_dict = {}\n",
        "\n",
        "    # Regular expression to match possible acronyms in the form of (ACRONYM)\n",
        "    acronym_pattern = r\"\\((.*?)\\)\"  # Matches text inside parentheses\n",
        "    full_form_pattern = r\"([A-Za-z ]+)\\s*\\((.*?)\\)\"  # Matches full form followed by acronym in parentheses\n",
        "\n",
        "    for snippet in snippets:\n",
        "        matches = re.findall(full_form_pattern, snippet)\n",
        "        for full_form, acronym in matches:\n",
        "            acronym_dict[acronym.upper()] = full_form.strip()\n",
        "\n",
        "    return acronym_dict\n",
        "\n",
        "# Read input\n",
        "N = int(input())  # Number of snippets\n",
        "snippets = [input().strip() for _ in range(N)]\n",
        "test_acronyms = [input().strip() for _ in range(N)]\n",
        "\n",
        "# Extract acronyms and their expansions from the snippets\n",
        "acronym_dict = extract_acronyms(snippets)\n",
        "\n",
        "# For each test acronym, output the corresponding expansion\n",
        "for acronym in test_acronyms:\n",
        "    print(acronym_dict.get(acronym.upper(), \"Unknown Acronym\"))"
      ]
    }
  ]
}